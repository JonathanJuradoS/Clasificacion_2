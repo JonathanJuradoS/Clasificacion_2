{
  "cells": [
    {
      "cell_type": "markdown",
      "metadata": {
        "id": "view-in-github",
        "colab_type": "text"
      },
      "source": [
        "<a href=\"https://colab.research.google.com/github/JonathanJuradoS/Clasificacion_2/blob/main/Espacio_Practico_Clasificacion_Empleo.ipynb\" target=\"_parent\"><img src=\"https://colab.research.google.com/assets/colab-badge.svg\" alt=\"Open In Colab\"/></a>"
      ]
    },
    {
      "cell_type": "markdown",
      "id": "b92d519d",
      "metadata": {
        "id": "b92d519d"
      },
      "source": [
        "# 🧪 Clasificación de Candidatos Tecnológicos\n",
        "\n",
        "Este cuaderno guía el desarrollo de un modelo de clasificación para predecir qué candidatos tecnológicos podrían ser seleccionados para entrevista, usando datos simulados pero realistas.\n",
        "\n",
        "## 🎯 Objetivo\n",
        "Entrenar y comparar modelos de clasificación (SVM, KNN, Árboles de Decisión y Boosting) aplicados al proceso de reclutamiento, usando métricas como Accuracy, F1-Score y AUC-ROC.\n"
      ]
    },
    {
      "cell_type": "markdown",
      "id": "4a95bd95",
      "metadata": {
        "id": "4a95bd95"
      },
      "source": [
        "### Paso 1: Importar librerías necesarias"
      ]
    },
    {
      "cell_type": "code",
      "execution_count": 2,
      "id": "94aafa37",
      "metadata": {
        "id": "94aafa37"
      },
      "outputs": [],
      "source": [
        "import pandas as pd\n",
        "import numpy as np\n",
        "import matplotlib.pyplot as plt\n",
        "import seaborn as sns\n",
        "\n",
        "from sklearn.model_selection import train_test_split\n",
        "from sklearn.preprocessing import StandardScaler\n",
        "from sklearn.svm import SVC\n",
        "from sklearn.neighbors import KNeighborsClassifier\n",
        "from sklearn.tree import DecisionTreeClassifier\n",
        "from sklearn.ensemble import GradientBoostingClassifier\n",
        "from sklearn.metrics import classification_report, confusion_matrix, roc_auc_score, roc_curve, accuracy_score, f1_score\n"
      ]
    },
    {
      "cell_type": "markdown",
      "id": "b5681b27",
      "metadata": {
        "id": "b5681b27"
      },
      "source": [
        "### Paso 2: Cargar y explorar el dataset"
      ]
    },
    {
      "cell_type": "code",
      "execution_count": 3,
      "id": "72dc6022",
      "metadata": {
        "colab": {
          "base_uri": "https://localhost:8080/",
          "height": 226
        },
        "id": "72dc6022",
        "outputId": "a504c49c-703d-431d-abb4-ec420a195c17"
      },
      "outputs": [
        {
          "output_type": "execute_result",
          "data": {
            "text/plain": [
              "  nivel_educacion  experiencia_anios  python_score  sql_score  java_score  \\\n",
              "0        Titulado                 14         26.17      57.20       64.83   \n",
              "1        Maestria                 11         24.70      80.54       17.24   \n",
              "2         Tecnico                 13         90.63      76.02       87.24   \n",
              "3        Titulado                 15         24.95      15.39       61.31   \n",
              "4        Titulado                  7         27.19      14.92       15.72   \n",
              "\n",
              "   num_certificaciones  proyectos_open_source  puntaje_test_online  \\\n",
              "0                    2                      9                95.44   \n",
              "1                    4                      2                73.82   \n",
              "2                    1                      7                73.44   \n",
              "3                    3                      4                 7.25   \n",
              "4                    4                      7                89.53   \n",
              "\n",
              "   disponibilidad_inmediata  edad  seleccionado  \n",
              "0                         0    32             0  \n",
              "1                         0    27             0  \n",
              "2                         0    21             0  \n",
              "3                         1    26             0  \n",
              "4                         1    30             0  "
            ],
            "text/html": [
              "\n",
              "  <div id=\"df-41070bc0-cb78-4ca3-bd6f-83133edfc04a\" class=\"colab-df-container\">\n",
              "    <div>\n",
              "<style scoped>\n",
              "    .dataframe tbody tr th:only-of-type {\n",
              "        vertical-align: middle;\n",
              "    }\n",
              "\n",
              "    .dataframe tbody tr th {\n",
              "        vertical-align: top;\n",
              "    }\n",
              "\n",
              "    .dataframe thead th {\n",
              "        text-align: right;\n",
              "    }\n",
              "</style>\n",
              "<table border=\"1\" class=\"dataframe\">\n",
              "  <thead>\n",
              "    <tr style=\"text-align: right;\">\n",
              "      <th></th>\n",
              "      <th>nivel_educacion</th>\n",
              "      <th>experiencia_anios</th>\n",
              "      <th>python_score</th>\n",
              "      <th>sql_score</th>\n",
              "      <th>java_score</th>\n",
              "      <th>num_certificaciones</th>\n",
              "      <th>proyectos_open_source</th>\n",
              "      <th>puntaje_test_online</th>\n",
              "      <th>disponibilidad_inmediata</th>\n",
              "      <th>edad</th>\n",
              "      <th>seleccionado</th>\n",
              "    </tr>\n",
              "  </thead>\n",
              "  <tbody>\n",
              "    <tr>\n",
              "      <th>0</th>\n",
              "      <td>Titulado</td>\n",
              "      <td>14</td>\n",
              "      <td>26.17</td>\n",
              "      <td>57.20</td>\n",
              "      <td>64.83</td>\n",
              "      <td>2</td>\n",
              "      <td>9</td>\n",
              "      <td>95.44</td>\n",
              "      <td>0</td>\n",
              "      <td>32</td>\n",
              "      <td>0</td>\n",
              "    </tr>\n",
              "    <tr>\n",
              "      <th>1</th>\n",
              "      <td>Maestria</td>\n",
              "      <td>11</td>\n",
              "      <td>24.70</td>\n",
              "      <td>80.54</td>\n",
              "      <td>17.24</td>\n",
              "      <td>4</td>\n",
              "      <td>2</td>\n",
              "      <td>73.82</td>\n",
              "      <td>0</td>\n",
              "      <td>27</td>\n",
              "      <td>0</td>\n",
              "    </tr>\n",
              "    <tr>\n",
              "      <th>2</th>\n",
              "      <td>Tecnico</td>\n",
              "      <td>13</td>\n",
              "      <td>90.63</td>\n",
              "      <td>76.02</td>\n",
              "      <td>87.24</td>\n",
              "      <td>1</td>\n",
              "      <td>7</td>\n",
              "      <td>73.44</td>\n",
              "      <td>0</td>\n",
              "      <td>21</td>\n",
              "      <td>0</td>\n",
              "    </tr>\n",
              "    <tr>\n",
              "      <th>3</th>\n",
              "      <td>Titulado</td>\n",
              "      <td>15</td>\n",
              "      <td>24.95</td>\n",
              "      <td>15.39</td>\n",
              "      <td>61.31</td>\n",
              "      <td>3</td>\n",
              "      <td>4</td>\n",
              "      <td>7.25</td>\n",
              "      <td>1</td>\n",
              "      <td>26</td>\n",
              "      <td>0</td>\n",
              "    </tr>\n",
              "    <tr>\n",
              "      <th>4</th>\n",
              "      <td>Titulado</td>\n",
              "      <td>7</td>\n",
              "      <td>27.19</td>\n",
              "      <td>14.92</td>\n",
              "      <td>15.72</td>\n",
              "      <td>4</td>\n",
              "      <td>7</td>\n",
              "      <td>89.53</td>\n",
              "      <td>1</td>\n",
              "      <td>30</td>\n",
              "      <td>0</td>\n",
              "    </tr>\n",
              "  </tbody>\n",
              "</table>\n",
              "</div>\n",
              "    <div class=\"colab-df-buttons\">\n",
              "\n",
              "  <div class=\"colab-df-container\">\n",
              "    <button class=\"colab-df-convert\" onclick=\"convertToInteractive('df-41070bc0-cb78-4ca3-bd6f-83133edfc04a')\"\n",
              "            title=\"Convert this dataframe to an interactive table.\"\n",
              "            style=\"display:none;\">\n",
              "\n",
              "  <svg xmlns=\"http://www.w3.org/2000/svg\" height=\"24px\" viewBox=\"0 -960 960 960\">\n",
              "    <path d=\"M120-120v-720h720v720H120Zm60-500h600v-160H180v160Zm220 220h160v-160H400v160Zm0 220h160v-160H400v160ZM180-400h160v-160H180v160Zm440 0h160v-160H620v160ZM180-180h160v-160H180v160Zm440 0h160v-160H620v160Z\"/>\n",
              "  </svg>\n",
              "    </button>\n",
              "\n",
              "  <style>\n",
              "    .colab-df-container {\n",
              "      display:flex;\n",
              "      gap: 12px;\n",
              "    }\n",
              "\n",
              "    .colab-df-convert {\n",
              "      background-color: #E8F0FE;\n",
              "      border: none;\n",
              "      border-radius: 50%;\n",
              "      cursor: pointer;\n",
              "      display: none;\n",
              "      fill: #1967D2;\n",
              "      height: 32px;\n",
              "      padding: 0 0 0 0;\n",
              "      width: 32px;\n",
              "    }\n",
              "\n",
              "    .colab-df-convert:hover {\n",
              "      background-color: #E2EBFA;\n",
              "      box-shadow: 0px 1px 2px rgba(60, 64, 67, 0.3), 0px 1px 3px 1px rgba(60, 64, 67, 0.15);\n",
              "      fill: #174EA6;\n",
              "    }\n",
              "\n",
              "    .colab-df-buttons div {\n",
              "      margin-bottom: 4px;\n",
              "    }\n",
              "\n",
              "    [theme=dark] .colab-df-convert {\n",
              "      background-color: #3B4455;\n",
              "      fill: #D2E3FC;\n",
              "    }\n",
              "\n",
              "    [theme=dark] .colab-df-convert:hover {\n",
              "      background-color: #434B5C;\n",
              "      box-shadow: 0px 1px 3px 1px rgba(0, 0, 0, 0.15);\n",
              "      filter: drop-shadow(0px 1px 2px rgba(0, 0, 0, 0.3));\n",
              "      fill: #FFFFFF;\n",
              "    }\n",
              "  </style>\n",
              "\n",
              "    <script>\n",
              "      const buttonEl =\n",
              "        document.querySelector('#df-41070bc0-cb78-4ca3-bd6f-83133edfc04a button.colab-df-convert');\n",
              "      buttonEl.style.display =\n",
              "        google.colab.kernel.accessAllowed ? 'block' : 'none';\n",
              "\n",
              "      async function convertToInteractive(key) {\n",
              "        const element = document.querySelector('#df-41070bc0-cb78-4ca3-bd6f-83133edfc04a');\n",
              "        const dataTable =\n",
              "          await google.colab.kernel.invokeFunction('convertToInteractive',\n",
              "                                                    [key], {});\n",
              "        if (!dataTable) return;\n",
              "\n",
              "        const docLinkHtml = 'Like what you see? Visit the ' +\n",
              "          '<a target=\"_blank\" href=https://colab.research.google.com/notebooks/data_table.ipynb>data table notebook</a>'\n",
              "          + ' to learn more about interactive tables.';\n",
              "        element.innerHTML = '';\n",
              "        dataTable['output_type'] = 'display_data';\n",
              "        await google.colab.output.renderOutput(dataTable, element);\n",
              "        const docLink = document.createElement('div');\n",
              "        docLink.innerHTML = docLinkHtml;\n",
              "        element.appendChild(docLink);\n",
              "      }\n",
              "    </script>\n",
              "  </div>\n",
              "\n",
              "\n",
              "    <div id=\"df-231e0fdd-c8dd-4bde-8499-4f4e52e92b7f\">\n",
              "      <button class=\"colab-df-quickchart\" onclick=\"quickchart('df-231e0fdd-c8dd-4bde-8499-4f4e52e92b7f')\"\n",
              "                title=\"Suggest charts\"\n",
              "                style=\"display:none;\">\n",
              "\n",
              "<svg xmlns=\"http://www.w3.org/2000/svg\" height=\"24px\"viewBox=\"0 0 24 24\"\n",
              "     width=\"24px\">\n",
              "    <g>\n",
              "        <path d=\"M19 3H5c-1.1 0-2 .9-2 2v14c0 1.1.9 2 2 2h14c1.1 0 2-.9 2-2V5c0-1.1-.9-2-2-2zM9 17H7v-7h2v7zm4 0h-2V7h2v10zm4 0h-2v-4h2v4z\"/>\n",
              "    </g>\n",
              "</svg>\n",
              "      </button>\n",
              "\n",
              "<style>\n",
              "  .colab-df-quickchart {\n",
              "      --bg-color: #E8F0FE;\n",
              "      --fill-color: #1967D2;\n",
              "      --hover-bg-color: #E2EBFA;\n",
              "      --hover-fill-color: #174EA6;\n",
              "      --disabled-fill-color: #AAA;\n",
              "      --disabled-bg-color: #DDD;\n",
              "  }\n",
              "\n",
              "  [theme=dark] .colab-df-quickchart {\n",
              "      --bg-color: #3B4455;\n",
              "      --fill-color: #D2E3FC;\n",
              "      --hover-bg-color: #434B5C;\n",
              "      --hover-fill-color: #FFFFFF;\n",
              "      --disabled-bg-color: #3B4455;\n",
              "      --disabled-fill-color: #666;\n",
              "  }\n",
              "\n",
              "  .colab-df-quickchart {\n",
              "    background-color: var(--bg-color);\n",
              "    border: none;\n",
              "    border-radius: 50%;\n",
              "    cursor: pointer;\n",
              "    display: none;\n",
              "    fill: var(--fill-color);\n",
              "    height: 32px;\n",
              "    padding: 0;\n",
              "    width: 32px;\n",
              "  }\n",
              "\n",
              "  .colab-df-quickchart:hover {\n",
              "    background-color: var(--hover-bg-color);\n",
              "    box-shadow: 0 1px 2px rgba(60, 64, 67, 0.3), 0 1px 3px 1px rgba(60, 64, 67, 0.15);\n",
              "    fill: var(--button-hover-fill-color);\n",
              "  }\n",
              "\n",
              "  .colab-df-quickchart-complete:disabled,\n",
              "  .colab-df-quickchart-complete:disabled:hover {\n",
              "    background-color: var(--disabled-bg-color);\n",
              "    fill: var(--disabled-fill-color);\n",
              "    box-shadow: none;\n",
              "  }\n",
              "\n",
              "  .colab-df-spinner {\n",
              "    border: 2px solid var(--fill-color);\n",
              "    border-color: transparent;\n",
              "    border-bottom-color: var(--fill-color);\n",
              "    animation:\n",
              "      spin 1s steps(1) infinite;\n",
              "  }\n",
              "\n",
              "  @keyframes spin {\n",
              "    0% {\n",
              "      border-color: transparent;\n",
              "      border-bottom-color: var(--fill-color);\n",
              "      border-left-color: var(--fill-color);\n",
              "    }\n",
              "    20% {\n",
              "      border-color: transparent;\n",
              "      border-left-color: var(--fill-color);\n",
              "      border-top-color: var(--fill-color);\n",
              "    }\n",
              "    30% {\n",
              "      border-color: transparent;\n",
              "      border-left-color: var(--fill-color);\n",
              "      border-top-color: var(--fill-color);\n",
              "      border-right-color: var(--fill-color);\n",
              "    }\n",
              "    40% {\n",
              "      border-color: transparent;\n",
              "      border-right-color: var(--fill-color);\n",
              "      border-top-color: var(--fill-color);\n",
              "    }\n",
              "    60% {\n",
              "      border-color: transparent;\n",
              "      border-right-color: var(--fill-color);\n",
              "    }\n",
              "    80% {\n",
              "      border-color: transparent;\n",
              "      border-right-color: var(--fill-color);\n",
              "      border-bottom-color: var(--fill-color);\n",
              "    }\n",
              "    90% {\n",
              "      border-color: transparent;\n",
              "      border-bottom-color: var(--fill-color);\n",
              "    }\n",
              "  }\n",
              "</style>\n",
              "\n",
              "      <script>\n",
              "        async function quickchart(key) {\n",
              "          const quickchartButtonEl =\n",
              "            document.querySelector('#' + key + ' button');\n",
              "          quickchartButtonEl.disabled = true;  // To prevent multiple clicks.\n",
              "          quickchartButtonEl.classList.add('colab-df-spinner');\n",
              "          try {\n",
              "            const charts = await google.colab.kernel.invokeFunction(\n",
              "                'suggestCharts', [key], {});\n",
              "          } catch (error) {\n",
              "            console.error('Error during call to suggestCharts:', error);\n",
              "          }\n",
              "          quickchartButtonEl.classList.remove('colab-df-spinner');\n",
              "          quickchartButtonEl.classList.add('colab-df-quickchart-complete');\n",
              "        }\n",
              "        (() => {\n",
              "          let quickchartButtonEl =\n",
              "            document.querySelector('#df-231e0fdd-c8dd-4bde-8499-4f4e52e92b7f button');\n",
              "          quickchartButtonEl.style.display =\n",
              "            google.colab.kernel.accessAllowed ? 'block' : 'none';\n",
              "        })();\n",
              "      </script>\n",
              "    </div>\n",
              "\n",
              "    </div>\n",
              "  </div>\n"
            ],
            "application/vnd.google.colaboratory.intrinsic+json": {
              "type": "dataframe",
              "variable_name": "df",
              "summary": "{\n  \"name\": \"df\",\n  \"rows\": 2000,\n  \"fields\": [\n    {\n      \"column\": \"nivel_educacion\",\n      \"properties\": {\n        \"dtype\": \"category\",\n        \"num_unique_values\": 4,\n        \"samples\": [\n          \"Maestria\",\n          \"Bachiller\",\n          \"Titulado\"\n        ],\n        \"semantic_type\": \"\",\n        \"description\": \"\"\n      }\n    },\n    {\n      \"column\": \"experiencia_anios\",\n      \"properties\": {\n        \"dtype\": \"number\",\n        \"std\": 4,\n        \"min\": 0,\n        \"max\": 15,\n        \"num_unique_values\": 16,\n        \"samples\": [\n          14,\n          11,\n          2\n        ],\n        \"semantic_type\": \"\",\n        \"description\": \"\"\n      }\n    },\n    {\n      \"column\": \"python_score\",\n      \"properties\": {\n        \"dtype\": \"number\",\n        \"std\": 28.85788656922442,\n        \"min\": 0.0,\n        \"max\": 99.96,\n        \"num_unique_values\": 1830,\n        \"samples\": [\n          9.39,\n          26.46,\n          52.47\n        ],\n        \"semantic_type\": \"\",\n        \"description\": \"\"\n      }\n    },\n    {\n      \"column\": \"sql_score\",\n      \"properties\": {\n        \"dtype\": \"number\",\n        \"std\": 28.794033325193325,\n        \"min\": 0.0,\n        \"max\": 99.94,\n        \"num_unique_values\": 1825,\n        \"samples\": [\n          50.01,\n          37.58,\n          58.66\n        ],\n        \"semantic_type\": \"\",\n        \"description\": \"\"\n      }\n    },\n    {\n      \"column\": \"java_score\",\n      \"properties\": {\n        \"dtype\": \"number\",\n        \"std\": 28.731432763851263,\n        \"min\": 0.02,\n        \"max\": 99.95,\n        \"num_unique_values\": 1835,\n        \"samples\": [\n          34.67,\n          74.48,\n          78.4\n        ],\n        \"semantic_type\": \"\",\n        \"description\": \"\"\n      }\n    },\n    {\n      \"column\": \"num_certificaciones\",\n      \"properties\": {\n        \"dtype\": \"number\",\n        \"std\": 1,\n        \"min\": 0,\n        \"max\": 8,\n        \"num_unique_values\": 9,\n        \"samples\": [\n          6,\n          4,\n          5\n        ],\n        \"semantic_type\": \"\",\n        \"description\": \"\"\n      }\n    },\n    {\n      \"column\": \"proyectos_open_source\",\n      \"properties\": {\n        \"dtype\": \"number\",\n        \"std\": 2,\n        \"min\": 0,\n        \"max\": 9,\n        \"num_unique_values\": 10,\n        \"samples\": [\n          5,\n          2,\n          6\n        ],\n        \"semantic_type\": \"\",\n        \"description\": \"\"\n      }\n    },\n    {\n      \"column\": \"puntaje_test_online\",\n      \"properties\": {\n        \"dtype\": \"number\",\n        \"std\": 28.23070377789754,\n        \"min\": 0.02,\n        \"max\": 99.74,\n        \"num_unique_values\": 1813,\n        \"samples\": [\n          18.79,\n          32.39,\n          87.24\n        ],\n        \"semantic_type\": \"\",\n        \"description\": \"\"\n      }\n    },\n    {\n      \"column\": \"disponibilidad_inmediata\",\n      \"properties\": {\n        \"dtype\": \"number\",\n        \"std\": 0,\n        \"min\": 0,\n        \"max\": 1,\n        \"num_unique_values\": 2,\n        \"samples\": [\n          1,\n          0\n        ],\n        \"semantic_type\": \"\",\n        \"description\": \"\"\n      }\n    },\n    {\n      \"column\": \"edad\",\n      \"properties\": {\n        \"dtype\": \"number\",\n        \"std\": 7,\n        \"min\": 20,\n        \"max\": 44,\n        \"num_unique_values\": 25,\n        \"samples\": [\n          34,\n          42\n        ],\n        \"semantic_type\": \"\",\n        \"description\": \"\"\n      }\n    },\n    {\n      \"column\": \"seleccionado\",\n      \"properties\": {\n        \"dtype\": \"number\",\n        \"std\": 0,\n        \"min\": 0,\n        \"max\": 1,\n        \"num_unique_values\": 2,\n        \"samples\": [\n          1,\n          0\n        ],\n        \"semantic_type\": \"\",\n        \"description\": \"\"\n      }\n    }\n  ]\n}"
            }
          },
          "metadata": {},
          "execution_count": 3
        }
      ],
      "source": [
        "df = pd.read_csv(\"/content/empleo_seleccion.csv\")\n",
        "df.head()"
      ]
    },
    {
      "cell_type": "markdown",
      "id": "8e86f0c9",
      "metadata": {
        "id": "8e86f0c9"
      },
      "source": [
        "### Paso 3: Análisis exploratorio de datos"
      ]
    },
    {
      "cell_type": "code",
      "execution_count": 11,
      "id": "240d9df4",
      "metadata": {
        "id": "240d9df4"
      },
      "outputs": [],
      "source": [
        "# Estadísticas descriptivas\n"
      ]
    },
    {
      "cell_type": "code",
      "execution_count": 12,
      "id": "492cf7af",
      "metadata": {
        "id": "492cf7af"
      },
      "outputs": [],
      "source": [
        "# Mapa de calor de correlaciones (solo numéricas)\n"
      ]
    },
    {
      "cell_type": "markdown",
      "id": "ffdc330e",
      "metadata": {
        "id": "ffdc330e"
      },
      "source": [
        "### Paso 4: Preprocesamiento de variables"
      ]
    },
    {
      "cell_type": "code",
      "execution_count": 6,
      "id": "ac60e693",
      "metadata": {
        "id": "ac60e693"
      },
      "outputs": [],
      "source": [
        "# Convertir variables categóricas a numéricas\n",
        "df_encoded = pd.get_dummies(df, drop_first=True)\n",
        "\n",
        "X = df_encoded.drop(\"seleccionado\", axis=1)\n",
        "y = df_encoded[\"seleccionado\"]\n",
        "\n",
        "# Separar en entrenamiento y prueba\n",
        "\n",
        "\n",
        "# Normalización\n"
      ]
    },
    {
      "cell_type": "markdown",
      "id": "a6be7840",
      "metadata": {
        "id": "a6be7840"
      },
      "source": [
        "### Paso 5: Entrenamiento de modelos"
      ]
    },
    {
      "cell_type": "code",
      "execution_count": 13,
      "id": "c216edd3",
      "metadata": {
        "id": "c216edd3"
      },
      "outputs": [],
      "source": [
        "models = {\n",
        "    \"SVM\": SVC(probability=True),\n",
        "    \"KNN\": KNeighborsClassifier(),\n",
        "    \"Decision Tree\": DecisionTreeClassifier(),\n",
        "    \"Boosting\": GradientBoostingClassifier()\n",
        "}\n",
        "\n"
      ]
    },
    {
      "cell_type": "markdown",
      "id": "7c780c71",
      "metadata": {
        "id": "7c780c71"
      },
      "source": [
        "### Paso 6: Visualización de Matriz de Confusión"
      ]
    },
    {
      "cell_type": "code",
      "execution_count": 13,
      "id": "82107910",
      "metadata": {
        "id": "82107910"
      },
      "outputs": [],
      "source": []
    },
    {
      "cell_type": "markdown",
      "id": "5cba5054",
      "metadata": {
        "id": "5cba5054"
      },
      "source": [
        "### Paso 7: Visualización de Curvas ROC"
      ]
    },
    {
      "cell_type": "code",
      "execution_count": 13,
      "id": "e4f73323",
      "metadata": {
        "id": "e4f73323"
      },
      "outputs": [],
      "source": [
        "\n"
      ]
    }
  ],
  "metadata": {
    "colab": {
      "provenance": [],
      "include_colab_link": true
    },
    "language_info": {
      "name": "python"
    },
    "kernelspec": {
      "name": "python3",
      "display_name": "Python 3"
    }
  },
  "nbformat": 4,
  "nbformat_minor": 5
}